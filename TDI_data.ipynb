{
 "cells": [
  {
   "cell_type": "markdown",
   "metadata": {},
   "source": [
    "## TDI Data Preparation\n",
    "-----\n",
    "1. Input File 1 Facebook Followers Data: `temp_datalab_records_social_facebook.csv`     \n",
    "    - source: Thinknum [https://blog.thedataincubator.com/tag/data-sources/]\n",
    "2. Input File 2 Firm Codes: `cusip.csv`\n",
    "3. Input File 3 Firm Codes(2-digit code): `sic_2_digit_codes.csv`               \n",
    "    - source: https://www.sec.gov/info/edgar/siccodes.htm\n",
    "-----\n",
    "1. Output File 1 (cleaned Facebook data): `facebook3.csv`\n",
    "1. Output File 2 (unique user in the Facebook data): `user_list.csv`\n",
    "1. Output File 3 (fisrt step match with industry information): `first_match.csv`\n",
    "1. Output File 4 (final step match with industry information): `final_match.csv`\n",
    "1. Output File 5 (final step match with industry information (only focused industry)): `facebook4.csv`"
   ]
  },
  {
   "cell_type": "markdown",
   "metadata": {},
   "source": [
    "## Set up"
   ]
  },
  {
   "cell_type": "code",
   "execution_count": 16,
   "metadata": {
    "collapsed": false
   },
   "outputs": [],
   "source": [
    "#! ./workflow.sh"
   ]
  },
  {
   "cell_type": "code",
   "execution_count": 25,
   "metadata": {
    "collapsed": false
   },
   "outputs": [],
   "source": [
    "%matplotlib inline\n",
    "%config InlineBackend.figure_format = 'retina'\n",
    "\n",
    "import numpy as np\n",
    "import pandas as pd\n",
    "\n",
    "import matplotlib as mpl\n",
    "import matplotlib.pyplot as plt\n",
    "import seaborn as sns\n",
    "sns.set(style='white', font_scale=1)\n",
    "\n",
    "from datetime import datetime\n",
    "\n",
    "import csv\n",
    "\n",
    "import math\n",
    "from difflib import SequenceMatcher\n",
    "\n",
    "from collections import Counter\n",
    "\n",
    "from fuzzywuzzy import fuzz\n",
    "\n",
    "import sys\n",
    "del sys.modules['tdi']\n",
    "\n",
    "import tdi"
   ]
  },
  {
   "cell_type": "code",
   "execution_count": 53,
   "metadata": {
    "collapsed": true
   },
   "outputs": [],
   "source": [
    "# input data\n",
    "file1 = 'temp_datalab_records_social_facebook.csv'\n",
    "file2 = 'cusip.csv'\n",
    "file3 = 'sic_2_digit_codes.csv'\n",
    "# output data\n",
    "output1 = 'facebook3_2.csv'\n",
    "output2 = 'user_list.csv'\n",
    "output3 = 'first_match.csv'\n",
    "output4 = 'final_match.csv'\n",
    "output5 = 'facebook4.csv'"
   ]
  },
  {
   "cell_type": "markdown",
   "metadata": {},
   "source": [
    "### Read Data"
   ]
  },
  {
   "cell_type": "code",
   "execution_count": 3,
   "metadata": {
    "collapsed": false
   },
   "outputs": [
    {
     "name": "stderr",
     "output_type": "stream",
     "text": [
      "/Users/abbypro/anaconda3/lib/python3.5/site-packages/IPython/core/interactiveshell.py:2717: DtypeWarning: Columns (9) have mixed types. Specify dtype option on import or set low_memory=False.\n",
      "  interactivity=interactivity, compiler=compiler, result=result)\n"
     ]
    }
   ],
   "source": [
    "facebook = pd.read_csv(file1)"
   ]
  },
  {
   "cell_type": "code",
   "execution_count": 4,
   "metadata": {
    "collapsed": false
   },
   "outputs": [
    {
     "data": {
      "text/plain": [
       "dataset_id               int64\n",
       "time                    object\n",
       "username                object\n",
       "checkins                 int64\n",
       "has_added_app           object\n",
       "were_here_count          int64\n",
       "likes                    int64\n",
       "talking_about_count      int64\n",
       "facebook_id              int64\n",
       "date_added              object\n",
       "date_updated            object\n",
       "entity_id              float64\n",
       "cusip                  float64\n",
       "isin                   float64\n",
       "dtype: object"
      ]
     },
     "execution_count": 4,
     "metadata": {},
     "output_type": "execute_result"
    }
   ],
   "source": [
    "facebook.dtypes"
   ]
  },
  {
   "cell_type": "code",
   "execution_count": 5,
   "metadata": {
    "collapsed": true
   },
   "outputs": [],
   "source": [
    "# convert string to datatime\n",
    "facebook['time_2'] = pd.to_datetime(facebook['time'])\n",
    "facebook['date_updated_2'] = pd.to_datetime(facebook['date_updated'])"
   ]
  },
  {
   "cell_type": "code",
   "execution_count": 50,
   "metadata": {
    "collapsed": true
   },
   "outputs": [],
   "source": [
    "facebook['user'] = facebook['username'].str.upper()"
   ]
  },
  {
   "cell_type": "code",
   "execution_count": 51,
   "metadata": {
    "collapsed": true
   },
   "outputs": [],
   "source": [
    "useful_cols = ['dataset_id','facebook_id', 'username', 'user',\n",
    "               'checkins', 'were_here_count', 'likes', 'talking_about_count', \n",
    "               'time_2','date_updated_2']"
   ]
  },
  {
   "cell_type": "code",
   "execution_count": 55,
   "metadata": {
    "collapsed": true
   },
   "outputs": [],
   "source": [
    "user_list = facebook['user'].value_counts().index.tolist()"
   ]
  },
  {
   "cell_type": "code",
   "execution_count": 26,
   "metadata": {
    "collapsed": true
   },
   "outputs": [],
   "source": [
    "user_list_df = pd.DataFrame(user_list)\n",
    "user_list_df.to_csv(output2, index=False)"
   ]
  },
  {
   "cell_type": "markdown",
   "metadata": {},
   "source": [
    "### Match Industry Code"
   ]
  },
  {
   "cell_type": "code",
   "execution_count": 924,
   "metadata": {
    "collapsed": true
   },
   "outputs": [],
   "source": [
    "match_threshold = 0.3\n",
    "latest_year = 2010"
   ]
  },
  {
   "cell_type": "code",
   "execution_count": 925,
   "metadata": {
    "collapsed": true
   },
   "outputs": [],
   "source": [
    "# dataset of firm names and id\n",
    "cusip = pd.read_csv(file2)"
   ]
  },
  {
   "cell_type": "code",
   "execution_count": 926,
   "metadata": {
    "collapsed": false
   },
   "outputs": [],
   "source": [
    "com_names = cusip['conm'].tolist()"
   ]
  },
  {
   "cell_type": "code",
   "execution_count": 927,
   "metadata": {
    "collapsed": false
   },
   "outputs": [
    {
     "data": {
      "text/plain": [
       "'Total companies with industry information: 38,089'"
      ]
     },
     "execution_count": 927,
     "metadata": {},
     "output_type": "execute_result"
    }
   ],
   "source": [
    "'Total companies with industry information: {:,}'.format(len(com_names))"
   ]
  },
  {
   "cell_type": "code",
   "execution_count": 928,
   "metadata": {
    "collapsed": false
   },
   "outputs": [],
   "source": [
    "stop_words = ('INC',\n",
    " 'CORPORATION',\n",
    " 'CORP',\n",
    " 'LTD',\n",
    " 'CO',\n",
    " 'GROUP',\n",
    " 'ENERGY',\n",
    " 'INDUSTRIES',\n",
    " 'HOLDINGS',\n",
    " 'HOLDING',\n",
    " 'HLDGS',\n",
    " 'INDS',\n",
    " 'ETF',\n",
    " 'INTL',\n",
    " 'RESOURCES',\n",
    " 'FINANCIAL',\n",
    " '-CL',\n",
    " 'SYSTEMS',\n",
    " 'BANCORP',\n",
    " 'TECHNOLOGIES',\n",
    " 'INTERNATIONAL',\n",
    " 'FD',\n",
    " 'TR',\n",
    " 'GLOBAL',\n",
    " 'CP',\n",
    " '-REDH',\n",
    " 'OIL',\n",
    " 'TRUST',\n",
    " 'GOLD',\n",
    " 'FUND',\n",
    " 'INCOME',\n",
    " 'SERVICES',\n",
    " 'GAS',\n",
    " 'PLC',\n",
    " 'US',\n",
    " 'OF',\n",
    " '-OLD',\n",
    " 'NATIONAL',\n",
    " 'MSCI',\n",
    " 'FORMA',\n",
    " 'INCM',\n",
    " 'INC-REDH',\n",
    " 'INC-OLD',\n",
    " 'PROPERTIES',\n",
    " 'GENERAL',\n",
    " 'BANK',\n",
    " 'POWERSHARES',\n",
    " 'PARTNERS',\n",
    " 'TECH',\n",
    " 'PROSHARES',\n",
    " 'ENTERPRISES',\n",
    " 'STORES',\n",
    " 'SYS',\n",
    " 'PRODUCTS',\n",
    " 'FINL',\n",
    " 'BRANDS',\n",
    " 'ASSET',\n",
    " 'REAL',\n",
    " 'TECHNOLOGY',\n",
    " 'SOLUTIONS',\n",
    " 'ACQUISITION',\n",
    " 'INVESTMENT',\n",
    " '-LP',\n",
    " '-ADR',\n",
    " 'GRP',\n",
    " 'LLC',\n",
    " 'BANKSHARES',\n",
    " '')"
   ]
  },
  {
   "cell_type": "code",
   "execution_count": 929,
   "metadata": {
    "collapsed": false
   },
   "outputs": [],
   "source": [
    "com_names_cleaned = []\n",
    "\n",
    "for n in com_names:\n",
    "    name = n.split(\" \")\n",
    "    common = set(name).intersection(stop_words)\n",
    "    n_cleaned = ' '.join([c for c in name if c not in common])\n",
    "    if n_cleaned == '':\n",
    "        com_names_cleaned.append((n,n))\n",
    "    else:\n",
    "        com_names_cleaned.append((n,n_cleaned))"
   ]
  },
  {
   "cell_type": "code",
   "execution_count": 930,
   "metadata": {
    "collapsed": false
   },
   "outputs": [],
   "source": [
    "df_names_cleaned = pd.DataFrame(com_names_cleaned)\n",
    "df_names_cleaned.columns = ['conm','name_cleaned']"
   ]
  },
  {
   "cell_type": "code",
   "execution_count": 931,
   "metadata": {
    "collapsed": true
   },
   "outputs": [],
   "source": [
    "cusip_c = cusip.merge(df_names_cleaned)"
   ]
  },
  {
   "cell_type": "code",
   "execution_count": 932,
   "metadata": {
    "collapsed": false
   },
   "outputs": [],
   "source": [
    "cusip_c.drop_duplicates('conm', inplace = True)"
   ]
  },
  {
   "cell_type": "code",
   "execution_count": 933,
   "metadata": {
    "collapsed": false
   },
   "outputs": [
    {
     "name": "stdout",
     "output_type": "stream",
     "text": [
      "0%\n"
     ]
    },
    {
     "name": "stderr",
     "output_type": "stream",
     "text": [
      "/Users/abbypro/anaconda3/lib/python3.5/site-packages/ipykernel/__main__.py:6: SettingWithCopyWarning: \n",
      "A value is trying to be set on a copy of a slice from a DataFrame.\n",
      "Try using .loc[row_indexer,col_indexer] = value instead\n",
      "\n",
      "See the caveats in the documentation: http://pandas.pydata.org/pandas-docs/stable/indexing.html#indexing-view-versus-copy\n"
     ]
    },
    {
     "name": "stdout",
     "output_type": "stream",
     "text": [
      "2%\n",
      "4%\n",
      "6%\n",
      "8%\n",
      "10%\n",
      "12%\n",
      "14%\n",
      "16%\n",
      "18%\n",
      "20%\n",
      "22%\n",
      "25%\n",
      "27%\n",
      "29%\n",
      "31%\n",
      "33%\n",
      "35%\n",
      "37%\n",
      "39%\n",
      "41%\n",
      "43%\n",
      "45%\n",
      "47%\n",
      "49%\n",
      "51%\n",
      "53%\n",
      "55%\n",
      "57%\n",
      "59%\n",
      "61%\n",
      "63%\n",
      "65%\n",
      "67%\n",
      "70%\n",
      "72%\n",
      "74%\n",
      "76%\n",
      "78%\n",
      "80%\n",
      "82%\n",
      "84%\n",
      "86%\n",
      "88%\n",
      "90%\n",
      "92%\n",
      "94%\n",
      "96%\n",
      "98%\n"
     ]
    }
   ],
   "source": [
    "df_match = pd.DataFrame()\n",
    "for idx,u in enumerate(user_list):\n",
    "    \n",
    "    good = cusip_c['name_cleaned'].str.contains(u)\n",
    "    temp = cusip_c[good]\n",
    "    temp['user'] = u\n",
    "\n",
    "    df_match = df_match.append(temp, ignore_index = True) \n",
    "    \n",
    "    if idx % 100 == 0:\n",
    "        print('{:.0f}%'.format(idx/len(user_list)*100))"
   ]
  },
  {
   "cell_type": "code",
   "execution_count": 934,
   "metadata": {
    "collapsed": false
   },
   "outputs": [
    {
     "data": {
      "text/plain": [
       "(11135, 11)"
      ]
     },
     "execution_count": 934,
     "metadata": {},
     "output_type": "execute_result"
    }
   ],
   "source": [
    "df_match.shape"
   ]
  },
  {
   "cell_type": "code",
   "execution_count": 935,
   "metadata": {
    "collapsed": false
   },
   "outputs": [],
   "source": [
    "# create a new column 'diff' and get the result of comparison to it\n",
    "df_match['diff1'] = df_match[['name_cleaned','user']].apply(lambda x: SequenceMatcher(None, x[0].strip(), x[1].strip()).ratio(), axis=1) "
   ]
  },
  {
   "cell_type": "code",
   "execution_count": 936,
   "metadata": {
    "collapsed": false
   },
   "outputs": [],
   "source": [
    "# create a new column 'diff' and get the result of comparison to it\n",
    "df_match['diff2'] = df_match[['name_cleaned','user']].apply(lambda x: fuzz.token_sort_ratio(x[0].strip(), x[1].strip()), axis=1) "
   ]
  },
  {
   "cell_type": "code",
   "execution_count": 937,
   "metadata": {
    "collapsed": false
   },
   "outputs": [
    {
     "data": {
      "text/html": [
       "<div>\n",
       "<table border=\"1\" class=\"dataframe\">\n",
       "  <thead>\n",
       "    <tr style=\"text-align: right;\">\n",
       "      <th></th>\n",
       "      <th>gvkey</th>\n",
       "      <th>conm</th>\n",
       "      <th>tic</th>\n",
       "      <th>cusip</th>\n",
       "      <th>cik</th>\n",
       "      <th>sic</th>\n",
       "      <th>naics</th>\n",
       "      <th>year1</th>\n",
       "      <th>year2</th>\n",
       "      <th>name_cleaned</th>\n",
       "      <th>user</th>\n",
       "      <th>diff1</th>\n",
       "      <th>diff2</th>\n",
       "    </tr>\n",
       "  </thead>\n",
       "  <tbody>\n",
       "    <tr>\n",
       "      <th>0</th>\n",
       "      <td>19881</td>\n",
       "      <td>2U INC</td>\n",
       "      <td>TWOU</td>\n",
       "      <td>90214J101</td>\n",
       "      <td>1459417.0</td>\n",
       "      <td>7370</td>\n",
       "      <td>519130.0</td>\n",
       "      <td>2011</td>\n",
       "      <td>2016</td>\n",
       "      <td>2U</td>\n",
       "      <td>2U</td>\n",
       "      <td>1.000000</td>\n",
       "      <td>100</td>\n",
       "    </tr>\n",
       "    <tr>\n",
       "      <th>1</th>\n",
       "      <td>133665</td>\n",
       "      <td>UNIVERSE2U INC</td>\n",
       "      <td>UTOU</td>\n",
       "      <td>914019104</td>\n",
       "      <td>1094089.0</td>\n",
       "      <td>1731</td>\n",
       "      <td>235310.0</td>\n",
       "      <td>1999</td>\n",
       "      <td>2001</td>\n",
       "      <td>UNIVERSE2U</td>\n",
       "      <td>2U</td>\n",
       "      <td>0.333333</td>\n",
       "      <td>33</td>\n",
       "    </tr>\n",
       "    <tr>\n",
       "      <th>2</th>\n",
       "      <td>7611</td>\n",
       "      <td>MULTIVOX CORP OF AMERICA</td>\n",
       "      <td>1768B</td>\n",
       "      <td>625469101</td>\n",
       "      <td>68848.0</td>\n",
       "      <td>3651</td>\n",
       "      <td>334310.0</td>\n",
       "      <td>1973</td>\n",
       "      <td>1983</td>\n",
       "      <td>MULTIVOX AMERICA</td>\n",
       "      <td>TIVO</td>\n",
       "      <td>0.400000</td>\n",
       "      <td>40</td>\n",
       "    </tr>\n",
       "    <tr>\n",
       "      <th>3</th>\n",
       "      <td>30684</td>\n",
       "      <td>TIVOLI INDUSTRIES INC</td>\n",
       "      <td>TVLI</td>\n",
       "      <td>888711306</td>\n",
       "      <td>924835.0</td>\n",
       "      <td>3640</td>\n",
       "      <td>335122.0</td>\n",
       "      <td>1992</td>\n",
       "      <td>1998</td>\n",
       "      <td>TIVOLI</td>\n",
       "      <td>TIVO</td>\n",
       "      <td>0.800000</td>\n",
       "      <td>80</td>\n",
       "    </tr>\n",
       "    <tr>\n",
       "      <th>4</th>\n",
       "      <td>31603</td>\n",
       "      <td>TIVOLI SYSTEMS INC</td>\n",
       "      <td>TIVS.1</td>\n",
       "      <td>888722105</td>\n",
       "      <td>900120.0</td>\n",
       "      <td>7372</td>\n",
       "      <td>511210.0</td>\n",
       "      <td>1990</td>\n",
       "      <td>1994</td>\n",
       "      <td>TIVOLI</td>\n",
       "      <td>TIVO</td>\n",
       "      <td>0.800000</td>\n",
       "      <td>80</td>\n",
       "    </tr>\n",
       "  </tbody>\n",
       "</table>\n",
       "</div>"
      ],
      "text/plain": [
       "    gvkey                      conm     tic      cusip        cik   sic  \\\n",
       "0   19881                    2U INC    TWOU  90214J101  1459417.0  7370   \n",
       "1  133665            UNIVERSE2U INC    UTOU  914019104  1094089.0  1731   \n",
       "2    7611  MULTIVOX CORP OF AMERICA   1768B  625469101    68848.0  3651   \n",
       "3   30684     TIVOLI INDUSTRIES INC    TVLI  888711306   924835.0  3640   \n",
       "4   31603        TIVOLI SYSTEMS INC  TIVS.1  888722105   900120.0  7372   \n",
       "\n",
       "      naics  year1  year2      name_cleaned  user     diff1  diff2  \n",
       "0  519130.0   2011   2016                2U    2U  1.000000    100  \n",
       "1  235310.0   1999   2001        UNIVERSE2U    2U  0.333333     33  \n",
       "2  334310.0   1973   1983  MULTIVOX AMERICA  TIVO  0.400000     40  \n",
       "3  335122.0   1992   1998            TIVOLI  TIVO  0.800000     80  \n",
       "4  511210.0   1990   1994            TIVOLI  TIVO  0.800000     80  "
      ]
     },
     "execution_count": 937,
     "metadata": {},
     "output_type": "execute_result"
    }
   ],
   "source": [
    "df_match.head()"
   ]
  },
  {
   "cell_type": "code",
   "execution_count": 940,
   "metadata": {
    "collapsed": false
   },
   "outputs": [],
   "source": [
    "df_match.sort_values(['user','diff1'],ascending = [True, False], inplace = True)"
   ]
  },
  {
   "cell_type": "code",
   "execution_count": 941,
   "metadata": {
    "collapsed": true
   },
   "outputs": [],
   "source": [
    "df_match.to_csv(output3, index=False)"
   ]
  },
  {
   "cell_type": "code",
   "execution_count": 942,
   "metadata": {
    "collapsed": false
   },
   "outputs": [
    {
     "data": {
      "text/plain": [
       "Index(['gvkey', 'conm', 'tic', 'cusip', 'cik', 'sic', 'naics', 'year1',\n",
       "       'year2', 'name_cleaned', 'user', 'diff1', 'diff2'],\n",
       "      dtype='object')"
      ]
     },
     "execution_count": 942,
     "metadata": {},
     "output_type": "execute_result"
    }
   ],
   "source": [
    "df_match.columns"
   ]
  },
  {
   "cell_type": "code",
   "execution_count": 943,
   "metadata": {
    "collapsed": false
   },
   "outputs": [
    {
     "data": {
      "text/plain": [
       "'Number of Users Found Match: 611'"
      ]
     },
     "execution_count": 943,
     "metadata": {},
     "output_type": "execute_result"
    }
   ],
   "source": [
    "match_found = df_match['user'].value_counts().index.tolist()\n",
    "'Number of Users Found Match: {}'.format(len(match_found))"
   ]
  },
  {
   "cell_type": "code",
   "execution_count": 944,
   "metadata": {
    "collapsed": false
   },
   "outputs": [
    {
     "data": {
      "text/plain": [
       "'Number of Users Found Pefect Match: 427'"
      ]
     },
     "execution_count": 944,
     "metadata": {},
     "output_type": "execute_result"
    }
   ],
   "source": [
    "match_perfect = df_match[df_match.diff1 == 1]['user'].value_counts().index.tolist()\n",
    "'Number of Users Found Pefect Match: {}'.format(len(match_perfect))"
   ]
  },
  {
   "cell_type": "code",
   "execution_count": 945,
   "metadata": {
    "collapsed": false
   },
   "outputs": [
    {
     "data": {
      "text/plain": [
       "'Non-perfect Matches: 184'"
      ]
     },
     "execution_count": 945,
     "metadata": {},
     "output_type": "execute_result"
    }
   ],
   "source": [
    "'Non-perfect Matches: {}'.format(len(match_found) - len(match_perfect))"
   ]
  },
  {
   "cell_type": "markdown",
   "metadata": {},
   "source": [
    "------"
   ]
  },
  {
   "cell_type": "code",
   "execution_count": 946,
   "metadata": {
    "collapsed": true
   },
   "outputs": [],
   "source": [
    "temp = df_match[df_match.diff1 == 1]['user'].value_counts()"
   ]
  },
  {
   "cell_type": "code",
   "execution_count": 947,
   "metadata": {
    "collapsed": false
   },
   "outputs": [],
   "source": [
    "perfect_multi = set(temp[temp > 1].index.tolist())"
   ]
  },
  {
   "cell_type": "code",
   "execution_count": 948,
   "metadata": {
    "collapsed": true
   },
   "outputs": [],
   "source": [
    "perfect_match1 = temp[temp == 1].index.tolist()"
   ]
  },
  {
   "cell_type": "code",
   "execution_count": 949,
   "metadata": {
    "collapsed": true
   },
   "outputs": [],
   "source": [
    "part1 = df_match[df_match.user.isin(perfect_match1)&(df_match.diff1 == 1)].drop_duplicates('user')\n",
    "part1['match_status'] = 'perfect match'"
   ]
  },
  {
   "cell_type": "code",
   "execution_count": 950,
   "metadata": {
    "collapsed": false
   },
   "outputs": [],
   "source": [
    "perfect_match1 = part1.user.tolist()"
   ]
  },
  {
   "cell_type": "code",
   "execution_count": 951,
   "metadata": {
    "collapsed": false
   },
   "outputs": [],
   "source": [
    "good = (df_match.user.isin(perfect_multi))&(df_match.year2 > latest_year)&(df_match.diff1 == 1)\n",
    "temp = df_match[good].groupby('user').size()"
   ]
  },
  {
   "cell_type": "code",
   "execution_count": 952,
   "metadata": {
    "collapsed": false
   },
   "outputs": [],
   "source": [
    "perfect_match2 = temp[temp == 1].index.tolist()"
   ]
  },
  {
   "cell_type": "code",
   "execution_count": 953,
   "metadata": {
    "collapsed": false
   },
   "outputs": [],
   "source": [
    "part2 = df_match[df_match.user.isin(perfect_match2)&\n",
    "                 (df_match.year2 > latest_year)&(df_match.diff1 == 1)].sort_values(['user','diff1','year2'], \n",
    "                                                             ascending = False).drop_duplicates('user')\n",
    "part2['match_status'] = 'perfect match'"
   ]
  },
  {
   "cell_type": "code",
   "execution_count": 954,
   "metadata": {
    "collapsed": false
   },
   "outputs": [],
   "source": [
    "perfect_match2 = part2.user.tolist()"
   ]
  },
  {
   "cell_type": "code",
   "execution_count": 955,
   "metadata": {
    "collapsed": false
   },
   "outputs": [],
   "source": [
    "perfect_match = set(perfect_match1 + perfect_match2)"
   ]
  },
  {
   "cell_type": "code",
   "execution_count": 956,
   "metadata": {
    "collapsed": true
   },
   "outputs": [],
   "source": [
    "less_perfect_match = set(perfect_multi) - set(perfect_match2)"
   ]
  },
  {
   "cell_type": "code",
   "execution_count": 957,
   "metadata": {
    "collapsed": true
   },
   "outputs": [],
   "source": [
    "part3 = df_match[df_match.user.isin(less_perfect_match)&\n",
    "                 (df_match.year2 > latest_year)&(df_match.diff1 == 1)].sort_values(['user','diff1','year2'], \n",
    "                                                             ascending = False).drop_duplicates('user')\n",
    "part3['match_status'] = 'less than perfect match'"
   ]
  },
  {
   "cell_type": "code",
   "execution_count": 958,
   "metadata": {
    "collapsed": false
   },
   "outputs": [],
   "source": [
    "less_perfect_match = set(part3.user.tolist())"
   ]
  },
  {
   "cell_type": "markdown",
   "metadata": {},
   "source": [
    "-------"
   ]
  },
  {
   "cell_type": "code",
   "execution_count": 959,
   "metadata": {
    "collapsed": true
   },
   "outputs": [],
   "source": [
    "df_match_further = df_match[(df_match.diff1 < 1) \n",
    "                            & (df_match.diff1 > match_threshold) & (df_match.year2 > latest_year)]"
   ]
  },
  {
   "cell_type": "code",
   "execution_count": 960,
   "metadata": {
    "collapsed": false
   },
   "outputs": [
    {
     "name": "stderr",
     "output_type": "stream",
     "text": [
      "/Users/abbypro/anaconda3/lib/python3.5/site-packages/ipykernel/__main__.py:1: SettingWithCopyWarning: \n",
      "A value is trying to be set on a copy of a slice from a DataFrame.\n",
      "Try using .loc[row_indexer,col_indexer] = value instead\n",
      "\n",
      "See the caveats in the documentation: http://pandas.pydata.org/pandas-docs/stable/indexing.html#indexing-view-versus-copy\n",
      "  if __name__ == '__main__':\n"
     ]
    }
   ],
   "source": [
    "df_match_further['check'] = df_match_further[['name_cleaned','user']].apply(lambda x: x[1] in x[0].split(' '), axis = 1)"
   ]
  },
  {
   "cell_type": "code",
   "execution_count": 961,
   "metadata": {
    "collapsed": false
   },
   "outputs": [
    {
     "data": {
      "text/plain": [
       "False    1267\n",
       "True      500\n",
       "Name: check, dtype: int64"
      ]
     },
     "execution_count": 961,
     "metadata": {},
     "output_type": "execute_result"
    }
   ],
   "source": [
    "df_match_further['check'].value_counts()"
   ]
  },
  {
   "cell_type": "code",
   "execution_count": 962,
   "metadata": {
    "collapsed": false
   },
   "outputs": [],
   "source": [
    "ok_match0 = df_match_further[df_match_further['check']]['user'].value_counts().index.tolist()"
   ]
  },
  {
   "cell_type": "code",
   "execution_count": 963,
   "metadata": {
    "collapsed": false
   },
   "outputs": [],
   "source": [
    "ok_match  = set(ok_match0) - less_perfect_match - perfect_match"
   ]
  },
  {
   "cell_type": "code",
   "execution_count": 964,
   "metadata": {
    "collapsed": false
   },
   "outputs": [],
   "source": [
    "part4 = df_match[df_match.user.isin(ok_match)&\n",
    "                 (df_match.diff1 < 1) & (df_match.diff1 > match_threshold) \n",
    "                 & (df_match.year2 > latest_year)].sort_values(['user','diff1','year2'], \n",
    "                                                             ascending = False).drop_duplicates('user')\n",
    "part4['match_status'] = 'ok match'"
   ]
  },
  {
   "cell_type": "markdown",
   "metadata": {},
   "source": [
    "------"
   ]
  },
  {
   "cell_type": "code",
   "execution_count": 965,
   "metadata": {
    "collapsed": false
   },
   "outputs": [],
   "source": [
    "bad_match = set(match_found) - ok_match - less_perfect_match - perfect_match"
   ]
  },
  {
   "cell_type": "code",
   "execution_count": 966,
   "metadata": {
    "collapsed": false
   },
   "outputs": [],
   "source": [
    "part5 = df_match[df_match.user.isin(bad_match)&\n",
    "                 (df_match.year2 > latest_year)].sort_values(['user','diff1','year2'], \n",
    "                                                             ascending = False).drop_duplicates('user')\n",
    "part5['match_status'] = 'bad match'"
   ]
  },
  {
   "cell_type": "code",
   "execution_count": 967,
   "metadata": {
    "collapsed": false
   },
   "outputs": [],
   "source": [
    "bad_match = set(part5.user.tolist())"
   ]
  },
  {
   "cell_type": "markdown",
   "metadata": {},
   "source": [
    "-----"
   ]
  },
  {
   "cell_type": "code",
   "execution_count": 968,
   "metadata": {
    "collapsed": false
   },
   "outputs": [
    {
     "name": "stdout",
     "output_type": "stream",
     "text": [
      "bad match: 46\n",
      "ok match: 107\n",
      "less perfect match: 21\n",
      "perfect match: 397\n",
      "total match: 571\n"
     ]
    }
   ],
   "source": [
    "print('bad match: {0}\\nok match: {1}\\nless perfect match: {2}\\nperfect match: {3}\\ntotal match: {4}'.format(len(bad_match),\n",
    "                                                                                                      len(ok_match),\n",
    "                                                                                                      len(less_perfect_match),\n",
    "                                                                                                      len(perfect_match),\n",
    "                         len(bad_match)+len(ok_match)+len(less_perfect_match)+len(perfect_match)))"
   ]
  },
  {
   "cell_type": "code",
   "execution_count": 969,
   "metadata": {
    "collapsed": false
   },
   "outputs": [
    {
     "data": {
      "text/plain": [
       "'No match: 4,320'"
      ]
     },
     "execution_count": 969,
     "metadata": {},
     "output_type": "execute_result"
    }
   ],
   "source": [
    "'No match: {:,}'.format(len(set(user_list)) - (len(bad_match)+len(ok_match)+len(less_perfect_match)+len(perfect_match)))"
   ]
  },
  {
   "cell_type": "code",
   "execution_count": 970,
   "metadata": {
    "collapsed": true
   },
   "outputs": [],
   "source": [
    "df_match_final = pd.concat([part1,part2,part3,part4,part5])"
   ]
  },
  {
   "cell_type": "code",
   "execution_count": 971,
   "metadata": {
    "collapsed": false
   },
   "outputs": [
    {
     "data": {
      "text/plain": [
       "perfect match              397\n",
       "ok match                   107\n",
       "bad match                   46\n",
       "less than perfect match     21\n",
       "Name: match_status, dtype: int64"
      ]
     },
     "execution_count": 971,
     "metadata": {},
     "output_type": "execute_result"
    }
   ],
   "source": [
    "df_match_final.match_status.value_counts()"
   ]
  },
  {
   "cell_type": "code",
   "execution_count": 972,
   "metadata": {
    "collapsed": false
   },
   "outputs": [
    {
     "data": {
      "text/plain": [
       "(571, 14)"
      ]
     },
     "execution_count": 972,
     "metadata": {},
     "output_type": "execute_result"
    }
   ],
   "source": [
    "df_match_final.shape"
   ]
  },
  {
   "cell_type": "code",
   "execution_count": 973,
   "metadata": {
    "collapsed": false
   },
   "outputs": [
    {
     "data": {
      "text/plain": [
       "array([[<matplotlib.axes._subplots.AxesSubplot object at 0x12675b278>,\n",
       "        <matplotlib.axes._subplots.AxesSubplot object at 0x1267626a0>],\n",
       "       [<matplotlib.axes._subplots.AxesSubplot object at 0x126769cf8>,\n",
       "        <matplotlib.axes._subplots.AxesSubplot object at 0x126770a90>]], dtype=object)"
      ]
     },
     "execution_count": 973,
     "metadata": {},
     "output_type": "execute_result"
    },
    {
     "data": {
      "image/png": "[encoded data removed]",
      "text/plain": [
       "<Figure size 576x396 with 4 Axes>"
      ]
     },
     "metadata": {
      "image/png": {
       "height": 347,
       "width": 501
      }
     },
     "output_type": "display_data"
    }
   ],
   "source": [
    "df_match_final['diff1'].hist(by=df_match_final['match_status'], bins = 20)"
   ]
  },
  {
   "cell_type": "code",
   "execution_count": 975,
   "metadata": {
    "collapsed": false
   },
   "outputs": [],
   "source": [
    "df_match_final.to_csv(output4, index = False)"
   ]
  },
  {
   "cell_type": "markdown",
   "metadata": {},
   "source": [
    "-----"
   ]
  },
  {
   "cell_type": "markdown",
   "metadata": {},
   "source": [
    "### 2-digits Industry Code"
   ]
  },
  {
   "cell_type": "code",
   "execution_count": 976,
   "metadata": {
    "collapsed": true
   },
   "outputs": [],
   "source": [
    "sic_2 = pd.read_csv(file3)"
   ]
  },
  {
   "cell_type": "code",
   "execution_count": 977,
   "metadata": {
    "collapsed": true
   },
   "outputs": [],
   "source": [
    "sic_2.columns = ['sic_2digit','industry_short']"
   ]
  },
  {
   "cell_type": "code",
   "execution_count": 978,
   "metadata": {
    "collapsed": false
   },
   "outputs": [],
   "source": [
    "facebook = facebook[useful_cols].merge(df_match_final, how = 'left')"
   ]
  },
  {
   "cell_type": "code",
   "execution_count": 979,
   "metadata": {
    "collapsed": true
   },
   "outputs": [],
   "source": [
    "facebook['sic_2digit'] = facebook['sic'] // 100\n",
    "facebook['sic_2digit'] = facebook['sic_2digit'].fillna(0)\n",
    "facebook['sic_2digit'] = facebook['sic_2digit'].astype('int')\n",
    "facebook3 = facebook.merge(sic_2, how = 'left')"
   ]
  },
  {
   "cell_type": "code",
   "execution_count": 980,
   "metadata": {
    "collapsed": true
   },
   "outputs": [],
   "source": [
    "facebook3['industry_short'] = facebook3['industry_short'].fillna('Not Available')"
   ]
  },
  {
   "cell_type": "code",
   "execution_count": 983,
   "metadata": {
    "collapsed": false
   },
   "outputs": [
    {
     "data": {
      "text/plain": [
       "(3621391, 24)"
      ]
     },
     "execution_count": 983,
     "metadata": {},
     "output_type": "execute_result"
    }
   ],
   "source": [
    "facebook.shape"
   ]
  },
  {
   "cell_type": "code",
   "execution_count": 982,
   "metadata": {
    "collapsed": false
   },
   "outputs": [
    {
     "data": {
      "text/plain": [
       "dataset_id                      int64\n",
       "facebook_id                     int64\n",
       "username                       object\n",
       "user                           object\n",
       "checkins                        int64\n",
       "were_here_count                 int64\n",
       "likes                           int64\n",
       "talking_about_count             int64\n",
       "time_2                 datetime64[ns]\n",
       "date_updated_2         datetime64[ns]\n",
       "gvkey                         float64\n",
       "conm                           object\n",
       "tic                            object\n",
       "cusip                          object\n",
       "cik                           float64\n",
       "sic                           float64\n",
       "naics                         float64\n",
       "year1                         float64\n",
       "year2                         float64\n",
       "name_cleaned                   object\n",
       "diff1                         float64\n",
       "diff2                         float64\n",
       "match_status                   object\n",
       "sic_2digit                      int64\n",
       "industry_short                 object\n",
       "dtype: object"
      ]
     },
     "execution_count": 982,
     "metadata": {},
     "output_type": "execute_result"
    }
   ],
   "source": [
    "facebook3.dtypes"
   ]
  },
  {
   "cell_type": "markdown",
   "metadata": {},
   "source": [
    "------"
   ]
  },
  {
   "cell_type": "markdown",
   "metadata": {},
   "source": [
    "### Time Period"
   ]
  },
  {
   "cell_type": "code",
   "execution_count": 1002,
   "metadata": {
    "collapsed": false
   },
   "outputs": [
    {
     "data": {
      "text/plain": [
       "dict_values(['M', 'D', 'Q', 'A', 'W'])"
      ]
     },
     "execution_count": 1002,
     "metadata": {},
     "output_type": "execute_result"
    }
   ],
   "source": [
    "#tdi.period.values()"
   ]
  },
  {
   "cell_type": "code",
   "execution_count": 30,
   "metadata": {
    "collapsed": false
   },
   "outputs": [],
   "source": [
    "facebook3 = tdi.get_time_period(facebook3, 'A')"
   ]
  },
  {
   "cell_type": "code",
   "execution_count": 32,
   "metadata": {
    "collapsed": true
   },
   "outputs": [],
   "source": [
    "facebook3 = tdi.get_time_period(facebook3, 'W')"
   ]
  },
  {
   "cell_type": "code",
   "execution_count": 33,
   "metadata": {
    "collapsed": true
   },
   "outputs": [],
   "source": [
    "facebook3 = tdi.get_time_period(facebook3, 'Q')"
   ]
  },
  {
   "cell_type": "code",
   "execution_count": 34,
   "metadata": {
    "collapsed": true
   },
   "outputs": [],
   "source": [
    "facebook3 = tdi.get_time_period(facebook3, 'D')"
   ]
  },
  {
   "cell_type": "code",
   "execution_count": 35,
   "metadata": {
    "collapsed": true
   },
   "outputs": [],
   "source": [
    "facebook3 = tdi.get_time_period(facebook3, 'M')"
   ]
  },
  {
   "cell_type": "code",
   "execution_count": 37,
   "metadata": {
    "collapsed": false
   },
   "outputs": [],
   "source": [
    "#facebook3.dtypes"
   ]
  },
  {
   "cell_type": "code",
   "execution_count": 4,
   "metadata": {
    "collapsed": false
   },
   "outputs": [],
   "source": [
    "#facebook3 = pd.read_csv('facebook3.csv')\n",
    "#facebook3['time_2'] = pd.to_datetime(facebook3['time_2'])\n",
    "#facebook3['date_updated_2'] = pd.to_datetime(facebook3['date_updated_2'])"
   ]
  },
  {
   "cell_type": "markdown",
   "metadata": {},
   "source": [
    "-----"
   ]
  },
  {
   "cell_type": "markdown",
   "metadata": {},
   "source": [
    "## Virtual and Physical Company"
   ]
  },
  {
   "cell_type": "markdown",
   "metadata": {},
   "source": [
    "### Define virtual firm as no were-here-count and checkins records"
   ]
  },
  {
   "cell_type": "code",
   "execution_count": 49,
   "metadata": {
    "collapsed": false
   },
   "outputs": [
    {
     "data": {
      "text/plain": [
       "Physical    2463731\n",
       "Virtual     1157660\n",
       "Name: virtual_c, dtype: int64"
      ]
     },
     "execution_count": 49,
     "metadata": {},
     "output_type": "execute_result"
    }
   ],
   "source": [
    "col = 'were_here_count'\n",
    "\n",
    "temp = facebook3.groupby('user')[col].agg({'mean'})\n",
    "good = temp['mean'] == 0\n",
    "were_here_none = set(temp[good].index.tolist())\n",
    "\n",
    "col = 'checkins'\n",
    "\n",
    "temp = facebook3.groupby('user')[col].agg({'mean'})\n",
    "good = temp['mean'] == 0\n",
    "checkins_none = set(temp[good].index.tolist())\n",
    "\n",
    "virtual = were_here_none.intersection(checkins_none)\n",
    "\n",
    "facebook3['virtual'] = np.where(facebook3.user.isin(virtual),1,0)\n",
    "\n",
    "facebook3['virtual'].value_counts()\n",
    "\n",
    "facebook3['virtual_c'] = np.where(facebook3.virtual == 1,'Virtual','Physical')\n",
    "\n",
    "facebook3['virtual_c'].value_counts()"
   ]
  },
  {
   "cell_type": "markdown",
   "metadata": {},
   "source": [
    "### Write to csv"
   ]
  },
  {
   "cell_type": "code",
   "execution_count": 50,
   "metadata": {
    "collapsed": false
   },
   "outputs": [],
   "source": [
    "facebook3.to_csv(output1,index=False)"
   ]
  },
  {
   "cell_type": "code",
   "execution_count": 986,
   "metadata": {
    "collapsed": false
   },
   "outputs": [],
   "source": [
    "del facebook3"
   ]
  },
  {
   "cell_type": "code",
   "execution_count": 51,
   "metadata": {
    "collapsed": true
   },
   "outputs": [],
   "source": [
    "good = facebook3['industry_short'].isin(tdi.focus_industry)\n",
    "facebook4 = facebook3[good]"
   ]
  },
  {
   "cell_type": "code",
   "execution_count": 54,
   "metadata": {
    "collapsed": false
   },
   "outputs": [],
   "source": [
    "facebook4.to_csv(output5,index=False)"
   ]
  },
  {
   "cell_type": "code",
   "execution_count": null,
   "metadata": {
    "collapsed": true
   },
   "outputs": [],
   "source": []
  }
 ],
 "metadata": {
  "anaconda-cloud": {},
  "kernelspec": {
   "display_name": "Python [conda root]",
   "language": "python",
   "name": "conda-root-py"
  },
  "language_info": {
   "codemirror_mode": {
    "name": "ipython",
    "version": 3
   },
   "file_extension": ".py",
   "mimetype": "text/x-python",
   "name": "python",
   "nbconvert_exporter": "python",
   "pygments_lexer": "ipython3",
   "version": "3.5.2"
  }
 },
 "nbformat": 4,
 "nbformat_minor": 2
}
