{
 "cells": [
  {
   "cell_type": "markdown",
   "metadata": {},
   "source": [
    "# TDI Challenge 2"
   ]
  },
  {
   "cell_type": "code",
   "execution_count": 246,
   "metadata": {
    "collapsed": true
   },
   "outputs": [],
   "source": [
    "import numpy as np\n",
    "import pandas as pd\n",
    "import math"
   ]
  },
  {
   "cell_type": "markdown",
   "metadata": {},
   "source": [
    "## Section 2\n",
    "\n",
    "A sequence of $n$ numbers is considered valid if the sequence begins with $1$, ends with a given number $j$, and no two adjacent numbers are the same. Sequences may use any integers between $1$ and a given number $k$, inclusive (also $1<=j<=k$). Given parameters $n$, $j$, and $k$, count the number of valid sequences. The number of valid sequences may be very large, so express your answer modulo $10^{10}+7$."
   ]
  },
  {
   "cell_type": "markdown",
   "metadata": {},
   "source": [
    "**Rationale**:      \n",
    "Define function $g$ as the number of valid sequences of length $n$ that start from $1$ and end with a given integer $j$ using any possible integers between $1$ and a given number $k$, inclusive. ($1<=j<=k$)       \n",
    "Define function $f$ as the number of valid sequences of length $n$ that start from $1$ using any possible integers between $1$ and a given number $k$, inclusive. ($1<=j<=k$)     \n",
    "Easy to see $f(n,k) = (k-1)^{(n-1)}$.       \n",
    "        \n",
    "We have     \n",
    "    $f(n-1,k) = g(n,k) + g(n-1,k)$      \n",
    "         \n",
    "(Think about the following three sequences:      \n",
    "(1) $1,...,X_{n-1},j$, length $n$, valid till $X_{n-1}$,   \n",
    "(2) $1,...,X_{n-1},j$, length $n$, valid through $j$, less flexible than Sequence (1),              \n",
    "and (3) $1,...,X_{n-2},j,j$, length $n$, valid through the first $j$, a \"compensatary\" set of Sequence (2) to Sequence (1).)      \n",
    "      \n",
    "And     \n",
    "    $f(n-1,k) = (k-1)^{(n-2)}$   \n",
    "         \n",
    "Thus,    \n",
    "    $g(n,k) = f(n-1,k) - g(n-1,k) = (k-1)^{(n-2)} - g(n-1,k)$."
   ]
  },
  {
   "cell_type": "code",
   "execution_count": 291,
   "metadata": {
    "collapsed": true
   },
   "outputs": [],
   "source": [
    "modulo = 10**10 + 7"
   ]
  },
  {
   "cell_type": "code",
   "execution_count": 396,
   "metadata": {
    "collapsed": false
   },
   "outputs": [],
   "source": [
    "def n_sequence_f(n,j,k):\n",
    "    if j>k or k<1 or j<1:\n",
    "        return 0\n",
    "    if n==0:\n",
    "        return 0\n",
    "    if j==1 and n==1:\n",
    "        return 1\n",
    "    elif n==1:\n",
    "        return 0\n",
    "    \n",
    "    return (k-1)**(n-1)\n",
    "    #return math.pow(k-1,n-1)\n",
    "    #return (k-1)**(n-1) % modulo\n",
    "    #return ((k-1)**(n-2) % modulo * (k-1)) % modulo\n",
    "\n",
    "#a^n mod b = ((a^(n-1) mod b) * a) mod b"
   ]
  },
  {
   "cell_type": "code",
   "execution_count": 401,
   "metadata": {
    "collapsed": true
   },
   "outputs": [],
   "source": [
    "def n_sequence_g(n,j,k):\n",
    "    # check conditions\n",
    "    if j>k or k<1 or j<1 or n<=0:\n",
    "        print('condition not satisfied')\n",
    "        return 0\n",
    "    # for cases with n=1\n",
    "    if j==1 and n==1:\n",
    "        return 1\n",
    "    elif n==1:\n",
    "        return 0\n",
    "    \n",
    "    # for cases with n>1\n",
    "    i = 2\n",
    "    if j==1:\n",
    "        current1 = 0\n",
    "    else:\n",
    "        current1 = 1\n",
    "    \n",
    "    current2 = (k-1)**(i-1)\n",
    "    module = 10**10+7\n",
    "    \n",
    "    while i < n:\n",
    "        previous1 = current1\n",
    "        current1 = current2 - previous1\n",
    "        current1 = current1 % modulo\n",
    "        current2 = current2*(k-1)\n",
    "        current2 = current2 % modulo\n",
    "        i = i+1\n",
    "    return current1"
   ]
  },
  {
   "cell_type": "code",
   "execution_count": 402,
   "metadata": {
    "collapsed": false
   },
   "outputs": [],
   "source": [
    "def n_sequence_g_2(n,j,k):\n",
    "    if j>k or k<1 or j<1:\n",
    "        return 0\n",
    "    if n==0:\n",
    "        return 0\n",
    "    if j==1 and n==1:\n",
    "        return 1\n",
    "    elif n==1:\n",
    "        return 0\n",
    "    if n==2 and k==1:\n",
    "        return 0\n",
    "    if n==2 and k!=1:\n",
    "        return 1\n",
    "    return (n_sequence_f(n-1,j,k) - n_sequence_g_2(n-1,j,k)) % modulo\n",
    "    #return (n_sequence_f(n-1,j,k) - (n_sequence_g_2(n-1,j,k) % modulo)) % modulo"
   ]
  },
  {
   "cell_type": "code",
   "execution_count": 404,
   "metadata": {
    "collapsed": false
   },
   "outputs": [
    {
     "data": {
      "text/plain": [
       "6"
      ]
     },
     "execution_count": 404,
     "metadata": {},
     "output_type": "execute_result"
    }
   ],
   "source": [
    "n_sequence_g(5,1,3)"
   ]
  },
  {
   "cell_type": "markdown",
   "metadata": {},
   "source": [
    "1.n=4, k=4, and j=2?"
   ]
  },
  {
   "cell_type": "code",
   "execution_count": 429,
   "metadata": {
    "collapsed": false
   },
   "outputs": [],
   "source": [
    "n=4;j=2;k=4\n",
    "result = n_sequence_g(n,j,k)"
   ]
  },
  {
   "cell_type": "code",
   "execution_count": 430,
   "metadata": {
    "collapsed": false
   },
   "outputs": [
    {
     "data": {
      "text/plain": [
       "7"
      ]
     },
     "execution_count": 430,
     "metadata": {},
     "output_type": "execute_result"
    }
   ],
   "source": [
    "result"
   ]
  },
  {
   "cell_type": "markdown",
   "metadata": {},
   "source": [
    "2.n=4, j=1, and k=100?"
   ]
  },
  {
   "cell_type": "code",
   "execution_count": 431,
   "metadata": {
    "collapsed": false
   },
   "outputs": [],
   "source": [
    "n=4;k=100;j=1\n",
    "result = n_sequence_g(n,j,k)"
   ]
  },
  {
   "cell_type": "code",
   "execution_count": 432,
   "metadata": {
    "collapsed": false
   },
   "outputs": [
    {
     "data": {
      "text/plain": [
       "9702"
      ]
     },
     "execution_count": 432,
     "metadata": {},
     "output_type": "execute_result"
    }
   ],
   "source": [
    "result"
   ]
  },
  {
   "cell_type": "markdown",
   "metadata": {},
   "source": [
    "3.n=100, k=100, and j=1?"
   ]
  },
  {
   "cell_type": "code",
   "execution_count": 414,
   "metadata": {
    "collapsed": false
   },
   "outputs": [],
   "source": [
    "n=100;k=100;j=1\n",
    "result = n_sequence_g(n,j,k)"
   ]
  },
  {
   "cell_type": "code",
   "execution_count": 415,
   "metadata": {
    "collapsed": false
   },
   "outputs": [
    {
     "data": {
      "text/plain": [
       "7934293301"
      ]
     },
     "execution_count": 415,
     "metadata": {},
     "output_type": "execute_result"
    }
   ],
   "source": [
    "result"
   ]
  },
  {
   "cell_type": "markdown",
   "metadata": {},
   "source": [
    "4.n=347 , j=2281, and k=829?"
   ]
  },
  {
   "cell_type": "code",
   "execution_count": 433,
   "metadata": {
    "collapsed": false
   },
   "outputs": [],
   "source": [
    "n=347;k=2281;j=829\n",
    "result = n_sequence_g_2(n,j,k)"
   ]
  },
  {
   "cell_type": "code",
   "execution_count": 434,
   "metadata": {
    "collapsed": false
   },
   "outputs": [],
   "source": [
    "n=347;k=2281;j=829\n",
    "result = n_sequence_g(n,j,k)"
   ]
  },
  {
   "cell_type": "code",
   "execution_count": 435,
   "metadata": {
    "collapsed": false
   },
   "outputs": [
    {
     "data": {
      "text/plain": [
       "4403056638"
      ]
     },
     "execution_count": 435,
     "metadata": {},
     "output_type": "execute_result"
    }
   ],
   "source": [
    "result"
   ]
  },
  {
   "cell_type": "markdown",
   "metadata": {},
   "source": [
    "5.$n=1.26*10^6$, $k=4.17*10^6$, and $j=1$?"
   ]
  },
  {
   "cell_type": "code",
   "execution_count": 424,
   "metadata": {
    "collapsed": false
   },
   "outputs": [],
   "source": [
    "#n=1.26*10**6;k=4.17*10**6;j=1829\n",
    "#result = n_sequence_g_2(n,j,k)\n",
    "#result % modulo"
   ]
  },
  {
   "cell_type": "code",
   "execution_count": 425,
   "metadata": {
    "collapsed": true
   },
   "outputs": [],
   "source": [
    "n=1.26*10**6;k=4.17*10**6;j=1829\n",
    "result = n_sequence_g(n,j,k)"
   ]
  },
  {
   "cell_type": "code",
   "execution_count": 426,
   "metadata": {
    "collapsed": false
   },
   "outputs": [
    {
     "data": {
      "text/plain": [
       "4800857919.0"
      ]
     },
     "execution_count": 426,
     "metadata": {},
     "output_type": "execute_result"
    }
   ],
   "source": [
    "result"
   ]
  },
  {
   "cell_type": "markdown",
   "metadata": {},
   "source": [
    "6.$n=10^7$ , $k=10^{12}$, and $j=829$?"
   ]
  },
  {
   "cell_type": "code",
   "execution_count": 427,
   "metadata": {
    "collapsed": false
   },
   "outputs": [],
   "source": [
    "#n=10**7;k=10**12;j=1829\n",
    "#result = n_sequence_g_2(n,j,k)\n",
    "#result % modulo"
   ]
  },
  {
   "cell_type": "code",
   "execution_count": 436,
   "metadata": {
    "collapsed": false
   },
   "outputs": [],
   "source": [
    "n=10**7;k=10**12;j=1829\n",
    "result = n_sequence_g(n,j,k)"
   ]
  },
  {
   "cell_type": "code",
   "execution_count": 437,
   "metadata": {
    "collapsed": false
   },
   "outputs": [
    {
     "data": {
      "text/plain": [
       "8051788353"
      ]
     },
     "execution_count": 437,
     "metadata": {},
     "output_type": "execute_result"
    }
   ],
   "source": [
    "result"
   ]
  },
  {
   "cell_type": "code",
   "execution_count": null,
   "metadata": {
    "collapsed": true
   },
   "outputs": [],
   "source": []
  }
 ],
 "metadata": {
  "kernelspec": {
   "display_name": "Python [default]",
   "language": "python",
   "name": "python3"
  },
  "language_info": {
   "codemirror_mode": {
    "name": "ipython",
    "version": 3
   },
   "file_extension": ".py",
   "mimetype": "text/x-python",
   "name": "python",
   "nbconvert_exporter": "python",
   "pygments_lexer": "ipython3",
   "version": "3.5.2"
  }
 },
 "nbformat": 4,
 "nbformat_minor": 2
}
